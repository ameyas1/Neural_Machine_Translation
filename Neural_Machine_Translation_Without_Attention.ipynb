{
  "nbformat": 4,
  "nbformat_minor": 0,
  "metadata": {
    "kernelspec": {
      "name": "python3",
      "display_name": "Python 3"
    },
    "colab": {
      "name": "Neural_Machine_translation.ipynb",
      "provenance": [],
      "collapsed_sections": [],
      "toc_visible": true,
      "include_colab_link": true
    },
    "accelerator": "GPU"
  },
  "cells": [
    {
      "cell_type": "markdown",
      "metadata": {
        "id": "view-in-github",
        "colab_type": "text"
      },
      "source": [
        "<a href=\"https://colab.research.google.com/github/ameyas1/Neural_Machine_Translation/blob/master/Neural_Machine_Translation_Without_Attention.ipynb\" target=\"_parent\"><img src=\"https://colab.research.google.com/assets/colab-badge.svg\" alt=\"Open In Colab\"/></a>"
      ]
    },
    {
      "cell_type": "markdown",
      "metadata": {
        "id": "vsX0L1sG1iZj",
        "colab_type": "text"
      },
      "source": [
        "# Capstone Project\n",
        "## Neural translation model\n",
        "### Instructions\n",
        "\n",
        "In this notebook, you will create a neural network that translates from English to German. You will use concepts from throughout this course, including building more flexible model architectures, freezing layers, data processing pipeline and sequence modelling.\n",
        "\n",
        "This project is peer-assessed. Within this notebook you will find instructions in each section for how to complete the project. Pay close attention to the instructions as the peer review will be carried out according to a grading rubric that checks key parts of the project instructions. Feel free to add extra cells into the notebook as required.\n",
        "\n",
        "### How to submit\n",
        "\n",
        "When you have completed the Capstone project notebook, you will submit a pdf of the notebook for peer review. First ensure that the notebook has been fully executed from beginning to end, and all of the cell outputs are visible. This is important, as the grading rubric depends on the reviewer being able to view the outputs of your notebook. Save the notebook as a pdf (you could download the notebook with File -> Download .ipynb, open the notebook locally, and then File -> Download as -> PDF via LaTeX), and then submit this pdf for review.\n",
        "\n",
        "### Let's get started!\n",
        "\n",
        "We'll start by running some imports, and loading the dataset. For this project you are free to make further imports throughout the notebook as you wish. "
      ]
    },
    {
      "cell_type": "code",
      "metadata": {
        "id": "O-jHMWhmewA3",
        "colab_type": "code",
        "colab": {}
      },
      "source": [
        "from sklearn.model_selection import train_test_split\n",
        "import time"
      ],
      "execution_count": 0,
      "outputs": []
    },
    {
      "cell_type": "code",
      "metadata": {
        "id": "5O498Hl4Clrt",
        "colab_type": "code",
        "colab": {}
      },
      "source": [
        "import pandas as pd\n",
        "import io\n",
        "import random\n",
        "import os"
      ],
      "execution_count": 0,
      "outputs": []
    },
    {
      "cell_type": "code",
      "metadata": {
        "id": "fRkwCVhcY3jd",
        "colab_type": "code",
        "colab": {}
      },
      "source": [
        "import matplotlib.pyplot as plt\n",
        "%matplotlib inline"
      ],
      "execution_count": 0,
      "outputs": []
    },
    {
      "cell_type": "code",
      "metadata": {
        "id": "2VyTvxPN1iZn",
        "colab_type": "code",
        "colab": {}
      },
      "source": [
        "import tensorflow as tf\n",
        "import tensorflow_hub as hub\n",
        "import unicodedata\n",
        "import re\n",
        "from IPython.display import Image"
      ],
      "execution_count": 0,
      "outputs": []
    },
    {
      "cell_type": "code",
      "metadata": {
        "id": "yWk1KkNgBLxm",
        "colab_type": "code",
        "colab": {}
      },
      "source": [
        ""
      ],
      "execution_count": 0,
      "outputs": []
    },
    {
      "cell_type": "markdown",
      "metadata": {
        "id": "wuIi4lAR1iZt",
        "colab_type": "text"
      },
      "source": [
        "For the capstone project, you will use a language dataset from http://www.manythings.org/anki/ to build a neural translation model. This dataset consists of over 200,000 pairs of sentences in English and German. In order to make the training quicker, we will restrict to our dataset to 20,000 pairs. Feel free to change this if you wish - the size of the dataset used is not part of the grading rubric.\n",
        "\n",
        "Your goal is to develop a neural translation model from English to German, making use of a pre-trained English word embedding module."
      ]
    },
    {
      "cell_type": "markdown",
      "metadata": {
        "id": "pi9Dq6vv3FVO",
        "colab_type": "text"
      },
      "source": [
        "#### Import the data\n",
        "\n",
        "The dataset is available for download as a zip file at the following link:\n",
        "\n",
        "https://drive.google.com/open?id=1KczOciG7sYY7SB9UlBeRP1T9659b121Q\n",
        "\n",
        "You should store the unzipped folder in Drive for use in this Colab notebook."
      ]
    },
    {
      "cell_type": "code",
      "metadata": {
        "id": "Nw99tEEQ3bKL",
        "colab_type": "code",
        "outputId": "43252611-2c27-4bec-bed7-1133470293e3",
        "colab": {
          "base_uri": "https://localhost:8080/",
          "height": 123
        }
      },
      "source": [
        "# Run this cell to connect to your Drive folder\n",
        "\n",
        "from google.colab import drive\n",
        "drive.mount('/content/gdrive')"
      ],
      "execution_count": 5,
      "outputs": [
        {
          "output_type": "stream",
          "text": [
            "Go to this URL in a browser: https://accounts.google.com/o/oauth2/auth?client_id=947318989803-6bn6qk8qdgf4n4g3pfee6491hc0brc4i.apps.googleusercontent.com&redirect_uri=urn%3aietf%3awg%3aoauth%3a2.0%3aoob&response_type=code&scope=email%20https%3a%2f%2fwww.googleapis.com%2fauth%2fdocs.test%20https%3a%2f%2fwww.googleapis.com%2fauth%2fdrive%20https%3a%2f%2fwww.googleapis.com%2fauth%2fdrive.photos.readonly%20https%3a%2f%2fwww.googleapis.com%2fauth%2fpeopleapi.readonly\n",
            "\n",
            "Enter your authorization code:\n",
            "··········\n",
            "Mounted at /content/gdrive\n"
          ],
          "name": "stdout"
        }
      ]
    },
    {
      "cell_type": "code",
      "metadata": {
        "id": "o8PetPpw1iZu",
        "colab_type": "code",
        "colab": {}
      },
      "source": [
        "# Run this cell to load the dataset\n",
        "\n",
        "# NUM_EXAMPLES = 20000\n",
        "# data_examples = []\n",
        "# with open('path/to/deu.txt', 'r', encoding='utf8') as f:\n",
        "#     for line in f.readlines():\n",
        "#         if len(data_examples) < NUM_EXAMPLES:\n",
        "#             data_examples.append(line)\n",
        "#         else:\n",
        "#             break"
      ],
      "execution_count": 0,
      "outputs": []
    },
    {
      "cell_type": "code",
      "metadata": {
        "id": "JumLjJ631iZy",
        "colab_type": "code",
        "colab": {}
      },
      "source": [
        "# These functions preprocess English and German sentences\n",
        "\n",
        "def unicode_to_ascii(s):\n",
        "    return ''.join(c for c in unicodedata.normalize('NFD', s) if unicodedata.category(c) != 'Mn')\n",
        "\n",
        "def preprocess_sentence(sentence,add_pad=False):\n",
        "    sentence = sentence.lower().strip()\n",
        "    sentence = re.sub(r\"ü\", 'ue', sentence)\n",
        "    sentence = re.sub(r\"ä\", 'ae', sentence)\n",
        "    sentence = re.sub(r\"ö\", 'oe', sentence)\n",
        "    sentence = re.sub(r'ß', 'ss', sentence)\n",
        "    \n",
        "    sentence = unicode_to_ascii(sentence)\n",
        "    sentence = re.sub(r\"([?.!,])\", r\" \\1 \", sentence)\n",
        "    sentence = re.sub(r\"[^a-z?.!,']+\", \" \", sentence)\n",
        "    sentence = re.sub(r'[\" \"]+', \" \", sentence)\n",
        "\n",
        "    if add_pad:\n",
        "      sentence = '<start> ' + sentence + ' <end>'\n",
        "    \n",
        "    return sentence.strip()\n"
      ],
      "execution_count": 0,
      "outputs": []
    },
    {
      "cell_type": "markdown",
      "metadata": {
        "id": "XFJap-TW1iZ2",
        "colab_type": "text"
      },
      "source": [
        "#### The custom translation model\n",
        "The following is a schematic of the custom translation model architecture you will develop in this project."
      ]
    },
    {
      "cell_type": "code",
      "metadata": {
        "id": "gBF1K2JN4RFJ",
        "colab_type": "code",
        "outputId": "2ab1301d-1725-4a38-f6a1-7745cc2f0612",
        "colab": {
          "base_uri": "https://localhost:8080/",
          "height": 648
        }
      },
      "source": [
        "# Run this cell to download and view a schematic diagram for the neural translation model\n",
        "\n",
        "!wget -q -O neural_translation_model.png --no-check-certificate \"https://docs.google.com/uc?export=download&id=1XsS1VlXoaEo-RbYNilJ9jcscNZvsSPmd\"\n",
        "Image(\"neural_translation_model.png\")"
      ],
      "execution_count": 8,
      "outputs": [
        {
          "output_type": "execute_result",
          "data": {
            "image/png": "[encoded data removed]",
            "text/plain": [
              "<IPython.core.display.Image object>"
            ]
          },
          "metadata": {
            "tags": []
          },
          "execution_count": 8
        }
      ]
    },
    {
      "cell_type": "markdown",
      "metadata": {
        "id": "0fP7P-yK4RS7",
        "colab_type": "text"
      },
      "source": [
        "The custom model consists of an encoder RNN and a decoder RNN. The encoder takes words of an English sentence as input, and uses a pre-trained word embedding to embed the words into a 128-dimensional space. To indicate the end of the input sentence, a special end token (in the same 128-dimensional space) is passed in as an input. This token is a TensorFlow Variable that is learned in the training phase (unlike the pre-trained word embedding, which is frozen).\n",
        "\n",
        "The decoder RNN takes the internal state of the encoder network as its initial state. A start token is passed in as the first input, which is embedded using a learned German word embedding. The decoder RNN then makes a prediction for the next German word, which during inference is then passed in as the following input, and this process is repeated until the special `<end>` token is emitted from the decoder."
      ]
    },
    {
      "cell_type": "markdown",
      "metadata": {
        "id": "z70nu6_01iZ3",
        "colab_type": "text"
      },
      "source": [
        "## 1. Text preprocessing\n",
        "* Create separate lists of English and German sentences, and preprocess them using the `preprocess_sentence` function provided for you above.\n",
        "* Add a special `\"<start>\"` and `\"<end>\"` token to the beginning and end of every German sentence.\n",
        "* Use the Tokenizer class from the `tf.keras.preprocessing.text` module to tokenize the German sentences, ensuring that no character filters are applied. _Hint: use the Tokenizer's \"filter\" keyword argument._\n",
        "* Print out at least 5 randomly chosen examples of (preprocessed) English and German sentence pairs. For the German sentence, print out the text (with start and end tokens) as well as the tokenized sequence.\n",
        "* Pad the end of the tokenized German sequences with zeros, and batch the complete set of sequences into one numpy array."
      ]
    },
    {
      "cell_type": "code",
      "metadata": {
        "scrolled": true,
        "id": "9G20C4bk1iZ4",
        "colab_type": "code",
        "colab": {}
      },
      "source": [
        "df = pd.read_csv('/content/gdrive/My Drive/deu.txt', sep='\\t',header=None)"
      ],
      "execution_count": 0,
      "outputs": []
    },
    {
      "cell_type": "code",
      "metadata": {
        "id": "Sxwl-1rB1iZ8",
        "colab_type": "code",
        "outputId": "581aa005-aaf9-4950-acc6-e772c2dc84e2",
        "colab": {
          "base_uri": "https://localhost:8080/",
          "height": 204
        }
      },
      "source": [
        "df.head()"
      ],
      "execution_count": 10,
      "outputs": [
        {
          "output_type": "execute_result",
          "data": {
            "text/html": [
              "<div>\n",
              "<style scoped>\n",
              "    .dataframe tbody tr th:only-of-type {\n",
              "        vertical-align: middle;\n",
              "    }\n",
              "\n",
              "    .dataframe tbody tr th {\n",
              "        vertical-align: top;\n",
              "    }\n",
              "\n",
              "    .dataframe thead th {\n",
              "        text-align: right;\n",
              "    }\n",
              "</style>\n",
              "<table border=\"1\" class=\"dataframe\">\n",
              "  <thead>\n",
              "    <tr style=\"text-align: right;\">\n",
              "      <th></th>\n",
              "      <th>0</th>\n",
              "      <th>1</th>\n",
              "      <th>2</th>\n",
              "    </tr>\n",
              "  </thead>\n",
              "  <tbody>\n",
              "    <tr>\n",
              "      <th>0</th>\n",
              "      <td>Hi.</td>\n",
              "      <td>Hallo!</td>\n",
              "      <td>CC-BY 2.0 (France) Attribution: tatoeba.org #5...</td>\n",
              "    </tr>\n",
              "    <tr>\n",
              "      <th>1</th>\n",
              "      <td>Hi.</td>\n",
              "      <td>Grüß Gott!</td>\n",
              "      <td>CC-BY 2.0 (France) Attribution: tatoeba.org #5...</td>\n",
              "    </tr>\n",
              "    <tr>\n",
              "      <th>2</th>\n",
              "      <td>Run!</td>\n",
              "      <td>Lauf!</td>\n",
              "      <td>CC-BY 2.0 (France) Attribution: tatoeba.org #9...</td>\n",
              "    </tr>\n",
              "    <tr>\n",
              "      <th>3</th>\n",
              "      <td>Wow!</td>\n",
              "      <td>Potzdonner!</td>\n",
              "      <td>CC-BY 2.0 (France) Attribution: tatoeba.org #5...</td>\n",
              "    </tr>\n",
              "    <tr>\n",
              "      <th>4</th>\n",
              "      <td>Wow!</td>\n",
              "      <td>Donnerwetter!</td>\n",
              "      <td>CC-BY 2.0 (France) Attribution: tatoeba.org #5...</td>\n",
              "    </tr>\n",
              "  </tbody>\n",
              "</table>\n",
              "</div>"
            ],
            "text/plain": [
              "      0              1                                                  2\n",
              "0   Hi.         Hallo!  CC-BY 2.0 (France) Attribution: tatoeba.org #5...\n",
              "1   Hi.     Grüß Gott!  CC-BY 2.0 (France) Attribution: tatoeba.org #5...\n",
              "2  Run!          Lauf!  CC-BY 2.0 (France) Attribution: tatoeba.org #9...\n",
              "3  Wow!    Potzdonner!  CC-BY 2.0 (France) Attribution: tatoeba.org #5...\n",
              "4  Wow!  Donnerwetter!  CC-BY 2.0 (France) Attribution: tatoeba.org #5..."
            ]
          },
          "metadata": {
            "tags": []
          },
          "execution_count": 10
        }
      ]
    },
    {
      "cell_type": "code",
      "metadata": {
        "id": "WnIdqZFk1iaA",
        "colab_type": "code",
        "colab": {}
      },
      "source": [
        "df=df[[0,1]]"
      ],
      "execution_count": 0,
      "outputs": []
    },
    {
      "cell_type": "code",
      "metadata": {
        "id": "5UlnBdIK1iaE",
        "colab_type": "code",
        "outputId": "a33fe163-0a17-4e6c-9680-5d40c5457f24",
        "colab": {
          "base_uri": "https://localhost:8080/",
          "height": 204
        }
      },
      "source": [
        "df.tail()"
      ],
      "execution_count": 12,
      "outputs": [
        {
          "output_type": "execute_result",
          "data": {
            "text/html": [
              "<div>\n",
              "<style scoped>\n",
              "    .dataframe tbody tr th:only-of-type {\n",
              "        vertical-align: middle;\n",
              "    }\n",
              "\n",
              "    .dataframe tbody tr th {\n",
              "        vertical-align: top;\n",
              "    }\n",
              "\n",
              "    .dataframe thead th {\n",
              "        text-align: right;\n",
              "    }\n",
              "</style>\n",
              "<table border=\"1\" class=\"dataframe\">\n",
              "  <thead>\n",
              "    <tr style=\"text-align: right;\">\n",
              "      <th></th>\n",
              "      <th>0</th>\n",
              "      <th>1</th>\n",
              "    </tr>\n",
              "  </thead>\n",
              "  <tbody>\n",
              "    <tr>\n",
              "      <th>200514</th>\n",
              "      <td>Even if some sentences by non-native speakers ...</td>\n",
              "      <td>Auch wenn Sätze von Nichtmuttersprachlern mitu...</td>\n",
              "    </tr>\n",
              "    <tr>\n",
              "      <th>200515</th>\n",
              "      <td>If someone who doesn't know your background sa...</td>\n",
              "      <td>Wenn jemand, der deine Herkunft nicht kennt, s...</td>\n",
              "    </tr>\n",
              "    <tr>\n",
              "      <th>200516</th>\n",
              "      <td>If someone who doesn't know your background sa...</td>\n",
              "      <td>Wenn jemand Fremdes dir sagt, dass du dich wie...</td>\n",
              "    </tr>\n",
              "    <tr>\n",
              "      <th>200517</th>\n",
              "      <td>It may be impossible to get a completely error...</td>\n",
              "      <td>Es ist wohl unmöglich, einen vollkommen fehler...</td>\n",
              "    </tr>\n",
              "    <tr>\n",
              "      <th>200518</th>\n",
              "      <td>Doubtless there exists in this world precisely...</td>\n",
              "      <td>Ohne Zweifel findet sich auf dieser Welt zu je...</td>\n",
              "    </tr>\n",
              "  </tbody>\n",
              "</table>\n",
              "</div>"
            ],
            "text/plain": [
              "                                                        0                                                  1\n",
              "200514  Even if some sentences by non-native speakers ...  Auch wenn Sätze von Nichtmuttersprachlern mitu...\n",
              "200515  If someone who doesn't know your background sa...  Wenn jemand, der deine Herkunft nicht kennt, s...\n",
              "200516  If someone who doesn't know your background sa...  Wenn jemand Fremdes dir sagt, dass du dich wie...\n",
              "200517  It may be impossible to get a completely error...  Es ist wohl unmöglich, einen vollkommen fehler...\n",
              "200518  Doubtless there exists in this world precisely...  Ohne Zweifel findet sich auf dieser Welt zu je..."
            ]
          },
          "metadata": {
            "tags": []
          },
          "execution_count": 12
        }
      ]
    },
    {
      "cell_type": "code",
      "metadata": {
        "id": "ZGTaqt1t1iaI",
        "colab_type": "code",
        "colab": {}
      },
      "source": [
        "df.to_csv('ger',sep='\\t',header=False,index=False)"
      ],
      "execution_count": 0,
      "outputs": []
    },
    {
      "cell_type": "code",
      "metadata": {
        "id": "fqiO7HuQ1iaL",
        "colab_type": "code",
        "outputId": "80a35748-7e46-4a06-d6b5-31e52eed0563",
        "colab": {
          "base_uri": "https://localhost:8080/",
          "height": 51
        }
      },
      "source": [
        "en_sentence = u'Hi.'\n",
        "ger_sentence = u'Grüß Gott!'\n",
        "print(preprocess_sentence(en_sentence, False))\n",
        "print(preprocess_sentence(ger_sentence, True))"
      ],
      "execution_count": 14,
      "outputs": [
        {
          "output_type": "stream",
          "text": [
            "hi .\n",
            "<start> gruess gott !  <end>\n"
          ],
          "name": "stdout"
        }
      ]
    },
    {
      "cell_type": "code",
      "metadata": {
        "id": "rKh_Mfn6DW4A",
        "colab_type": "code",
        "colab": {}
      },
      "source": [
        "def create_dataset(path, num_examples):\n",
        "  lines = io.open(path, encoding='UTF-8').read().strip().split('\\n')\n",
        "\n",
        "  # word_pairs = [[preprocess_sentence(w) for w in l.split('\\t')]  for l in lines[:num_examples]]\n",
        "\n",
        "  word_pairs = []\n",
        "  for l in lines[:num_examples]:\n",
        "    w=l.split('\\t')\n",
        "    word_pairs.append([preprocess_sentence(w[0], False), preprocess_sentence(w[1], True)])\n",
        "\n",
        "\n",
        "\n",
        "\n",
        "  return zip(*word_pairs)"
      ],
      "execution_count": 0,
      "outputs": []
    },
    {
      "cell_type": "code",
      "metadata": {
        "id": "jnLDcbisEaQX",
        "colab_type": "code",
        "colab": {}
      },
      "source": [
        "path_to_file='/content/ger'"
      ],
      "execution_count": 0,
      "outputs": []
    },
    {
      "cell_type": "code",
      "metadata": {
        "id": "IBupRvEMEaUo",
        "colab_type": "code",
        "colab": {}
      },
      "source": [
        "def max_length(tensor):\n",
        "  return max(len(t) for t in tensor)"
      ],
      "execution_count": 0,
      "outputs": []
    },
    {
      "cell_type": "code",
      "metadata": {
        "id": "Rj20WvtPEaNp",
        "colab_type": "code",
        "colab": {}
      },
      "source": [
        "def tokenize(lang):\n",
        "  lang_tokenizer = tf.keras.preprocessing.text.Tokenizer(\n",
        "      filters='')\n",
        "  lang_tokenizer.fit_on_texts(lang)\n",
        "\n",
        "  tensor = lang_tokenizer.texts_to_sequences(lang)\n",
        "\n",
        "  tensor = tf.keras.preprocessing.sequence.pad_sequences(tensor,\n",
        "                                                         padding='post')\n",
        "\n",
        "  return tensor, lang_tokenizer"
      ],
      "execution_count": 0,
      "outputs": []
    },
    {
      "cell_type": "code",
      "metadata": {
        "id": "4uWhY0ncFFQM",
        "colab_type": "code",
        "colab": {}
      },
      "source": [
        "def load_dataset(path, num_examples=None):\n",
        "  # creating cleaned input, output pairs\n",
        "  inp_lang, targ_lang = create_dataset(path, num_examples)\n",
        "\n",
        "  # input_tensor, inp_lang_tokenizer = tokenize(inp_lang)\n",
        "  target_tensor, targ_lang_tokenizer = tokenize(targ_lang)\n",
        "\n",
        "  return inp_lang, target_tensor, targ_lang_tokenizer"
      ],
      "execution_count": 0,
      "outputs": []
    },
    {
      "cell_type": "code",
      "metadata": {
        "id": "IqlhxgLeFYC_",
        "colab_type": "code",
        "colab": {}
      },
      "source": [
        "num_examples = 20000\n",
        "inp_lang, target_tensor, targ_lang = load_dataset(path_to_file, num_examples)"
      ],
      "execution_count": 0,
      "outputs": []
    },
    {
      "cell_type": "code",
      "metadata": {
        "id": "2qpCkJqJNW6R",
        "colab_type": "code",
        "colab": {}
      },
      "source": [
        "# Calculate max_length of the target tensors\n",
        "max_length_targ = max_length(target_tensor)"
      ],
      "execution_count": 0,
      "outputs": []
    },
    {
      "cell_type": "code",
      "metadata": {
        "id": "_Ua0yPxjFYHW",
        "colab_type": "code",
        "outputId": "856fc286-5df6-4151-bd71-141fdc1f2bf9",
        "colab": {
          "base_uri": "https://localhost:8080/",
          "height": 34
        }
      },
      "source": [
        "max_length_targ"
      ],
      "execution_count": 22,
      "outputs": [
        {
          "output_type": "execute_result",
          "data": {
            "text/plain": [
              "14"
            ]
          },
          "metadata": {
            "tags": []
          },
          "execution_count": 22
        }
      ]
    },
    {
      "cell_type": "code",
      "metadata": {
        "id": "ILQ3BlFsF-gZ",
        "colab_type": "code",
        "colab": {}
      },
      "source": [
        "def convert(lang, tensor):\n",
        "  for t in tensor:\n",
        "    if t!=0:\n",
        "      print (\"%d ----> %s\" % (t, lang.index_word[t]))"
      ],
      "execution_count": 0,
      "outputs": []
    },
    {
      "cell_type": "code",
      "metadata": {
        "id": "dylKRNPYGLbg",
        "colab_type": "code",
        "outputId": "3ef4fc40-b194-403f-dbfb-bed3e93d548a",
        "colab": {
          "base_uri": "https://localhost:8080/",
          "height": 189
        }
      },
      "source": [
        "print (\"Input\")\n",
        "print(inp_lang[0])\n",
        "print ()\n",
        "print (\"Target Language; index to word mapping\")\n",
        "convert(targ_lang, target_tensor[0])\n",
        "print(target_tensor[0])\n",
        "print(' '.join([targ_lang.index_word[t] for t in target_tensor[0] if t != 0 ]))"
      ],
      "execution_count": 24,
      "outputs": [
        {
          "output_type": "stream",
          "text": [
            "Input\n",
            "hi .\n",
            "\n",
            "Target Language; index to word mapping\n",
            "1 ----> <start>\n",
            "405 ----> hallo\n",
            "9 ----> !\n",
            "2 ----> <end>\n",
            "[  1 405   9   2   0   0   0   0   0   0   0   0   0   0]\n",
            "<start> hallo ! <end>\n"
          ],
          "name": "stdout"
        }
      ]
    },
    {
      "cell_type": "code",
      "metadata": {
        "id": "Wa99y8LaG5bQ",
        "colab_type": "code",
        "outputId": "9e1c599e-738d-43d2-aa08-afd10c1e389e",
        "colab": {
          "base_uri": "https://localhost:8080/",
          "height": 1000
        }
      },
      "source": [
        "for i in range(5):\n",
        "  print('example', i)\n",
        "  print()\n",
        "  inx = random.randint(0,num_examples)\n",
        "  print (\"Input\")\n",
        "  print(inp_lang[inx])\n",
        "  print ()\n",
        "  print (\"Target Language; index to word mapping\")\n",
        "  convert(targ_lang, target_tensor[inx])\n",
        "  print()\n",
        "  print('tokenized sequence')\n",
        "  print(target_tensor[inx])\n",
        "  print()\n",
        "  print('text')\n",
        "  print(' '.join([targ_lang.index_word[t] for t in target_tensor[inx] if t != 0 ]))\n",
        "  print(\"*************************************************************************************\")"
      ],
      "execution_count": 25,
      "outputs": [
        {
          "output_type": "stream",
          "text": [
            "example 0\n",
            "\n",
            "Input\n",
            "he's austrian .\n",
            "\n",
            "Target Language; index to word mapping\n",
            "1 ----> <start>\n",
            "14 ----> er\n",
            "6 ----> ist\n",
            "3570 ----> oesterreicher\n",
            "3 ----> .\n",
            "2 ----> <end>\n",
            "\n",
            "tokenized sequence\n",
            "[   1   14    6 3570    3    2    0    0    0    0    0    0    0    0]\n",
            "\n",
            "text\n",
            "<start> er ist oesterreicher . <end>\n",
            "*************************************************************************************\n",
            "example 1\n",
            "\n",
            "Input\n",
            "do you follow ?\n",
            "\n",
            "Target Language; index to word mapping\n",
            "1 ----> <start>\n",
            "81 ----> koennen\n",
            "8 ----> sie\n",
            "21 ----> mir\n",
            "492 ----> folgen\n",
            "7 ----> ?\n",
            "2 ----> <end>\n",
            "\n",
            "tokenized sequence\n",
            "[  1  81   8  21 492   7   2   0   0   0   0   0   0   0]\n",
            "\n",
            "text\n",
            "<start> koennen sie mir folgen ? <end>\n",
            "*************************************************************************************\n",
            "example 2\n",
            "\n",
            "Input\n",
            "he has changed .\n",
            "\n",
            "Target Language; index to word mapping\n",
            "1 ----> <start>\n",
            "14 ----> er\n",
            "16 ----> hat\n",
            "34 ----> sich\n",
            "833 ----> veraendert\n",
            "3 ----> .\n",
            "2 ----> <end>\n",
            "\n",
            "tokenized sequence\n",
            "[  1  14  16  34 833   3   2   0   0   0   0   0   0   0]\n",
            "\n",
            "text\n",
            "<start> er hat sich veraendert . <end>\n",
            "*************************************************************************************\n",
            "example 3\n",
            "\n",
            "Input\n",
            "that's chicken .\n",
            "\n",
            "Target Language; index to word mapping\n",
            "1 ----> <start>\n",
            "11 ----> das\n",
            "6 ----> ist\n",
            "2736 ----> huhn\n",
            "3 ----> .\n",
            "2 ----> <end>\n",
            "\n",
            "tokenized sequence\n",
            "[   1   11    6 2736    3    2    0    0    0    0    0    0    0    0]\n",
            "\n",
            "text\n",
            "<start> das ist huhn . <end>\n",
            "*************************************************************************************\n",
            "example 4\n",
            "\n",
            "Input\n",
            "i can't hear you .\n",
            "\n",
            "Target Language; index to word mapping\n",
            "1 ----> <start>\n",
            "4 ----> ich\n",
            "30 ----> kann\n",
            "28 ----> dich\n",
            "12 ----> nicht\n",
            "332 ----> hoeren\n",
            "3 ----> .\n",
            "2 ----> <end>\n",
            "\n",
            "tokenized sequence\n",
            "[  1   4  30  28  12 332   3   2   0   0   0   0   0   0]\n",
            "\n",
            "text\n",
            "<start> ich kann dich nicht hoeren . <end>\n",
            "*************************************************************************************\n"
          ],
          "name": "stdout"
        }
      ]
    },
    {
      "cell_type": "markdown",
      "metadata": {
        "id": "foL7Ihs21iaP",
        "colab_type": "text"
      },
      "source": [
        "## 2. Prepare the data"
      ]
    },
    {
      "cell_type": "markdown",
      "metadata": {
        "id": "-9rCEE4z1iaQ",
        "colab_type": "text"
      },
      "source": [
        "#### Load the embedding layer\n",
        "As part of the dataset preproceessing for this project, you will use a pre-trained English word embedding module from TensorFlow Hub. The URL for the module is https://tfhub.dev/google/tf2-preview/nnlm-en-dim128-with-normalization/1.\n",
        "\n",
        "This embedding takes a batch of text tokens in a 1-D tensor of strings as input. It then embeds the separate tokens into a 128-dimensional space. \n",
        "\n",
        "The code to load and test the embedding layer is provided for you below.\n",
        "\n",
        "**NB:** this model can also be used as a sentence embedding module. The module will process each token by removing punctuation and splitting on spaces. It then averages the word embeddings over a sentence to give a single embedding vector. However, we will use it only as a word embedding module, and will pass each word in the input sentence as a separate token."
      ]
    },
    {
      "cell_type": "code",
      "metadata": {
        "id": "ywZgobCh1iaR",
        "colab_type": "code",
        "colab": {}
      },
      "source": [
        "# Load embedding module from Tensorflow Hub\n",
        "\n",
        "embedding_layer = hub.KerasLayer(\"https://tfhub.dev/google/tf2-preview/nnlm-en-dim128/1\", \n",
        "                                 output_shape=[128], input_shape=[], dtype=tf.string)"
      ],
      "execution_count": 0,
      "outputs": []
    },
    {
      "cell_type": "code",
      "metadata": {
        "id": "TiY8QEDp1iaV",
        "colab_type": "code",
        "outputId": "1bb60156-c0e6-4c4f-f896-36b61e6f820f",
        "colab": {
          "base_uri": "https://localhost:8080/",
          "height": 34
        }
      },
      "source": [
        "# Test the layer\n",
        "\n",
        "embedding_layer(tf.constant([\"these\", \"aren't\", \"the\", \"droids\", \"you're\", \"looking\", \"for\"])).shape"
      ],
      "execution_count": 27,
      "outputs": [
        {
          "output_type": "execute_result",
          "data": {
            "text/plain": [
              "TensorShape([7, 128])"
            ]
          },
          "metadata": {
            "tags": []
          },
          "execution_count": 27
        }
      ]
    },
    {
      "cell_type": "markdown",
      "metadata": {
        "id": "KjuzXc-z1iaY",
        "colab_type": "text"
      },
      "source": [
        "You should now prepare the training and validation Datasets.\n",
        "\n",
        "* Create a random training and validation set split of the data, reserving e.g. 20% of the data for validation (NB: each English dataset example is a single sentence string, and each German dataset example is a sequence of padded integer tokens).\n",
        "* Load the training and validation sets into a tf.data.Dataset object, passing in a tuple of English and German data for both training and validation sets.\n",
        "* Create a function to map over the datasets that splits each English sentence at spaces. Apply this function to both Dataset objects using the map method. _Hint: look at the tf.strings.split function._\n",
        "* Create a function to map over the datasets that embeds each sequence of English words using the loaded embedding layer/model. Apply this function to both Dataset objects using the map method.\n",
        "* Create a function to filter out dataset examples where the English sentence is more than 13 (embedded) tokens in length. Apply this function to both Dataset objects using the filter method.\n",
        "* Create a function to map over the datasets that pads each English sequence of embeddings with some distinct padding value before the sequence, so that each sequence is length 13. Apply this function to both Dataset objects using the map method. _Hint: look at the tf.pad function. You can extract a Tensor shape using tf.shape; you might also find the tf.math.maximum function useful._\n",
        "* Batch both training and validation Datasets with a batch size of 16.\n",
        "* Print the `element_spec` property for the training and validation Datasets. \n",
        "* Using the Dataset `.take(1)` method, print the shape of the English data example from the training Dataset.\n",
        "* Using the Dataset `.take(1)` method, print the German data example Tensor from the validation Dataset."
      ]
    },
    {
      "cell_type": "code",
      "metadata": {
        "id": "_VoyJ5AFXsoe",
        "colab_type": "code",
        "colab": {}
      },
      "source": [
        "BATCH_SIZE=16\n",
        "vocab_tar_size = len(targ_lang.word_index)+1"
      ],
      "execution_count": 0,
      "outputs": []
    },
    {
      "cell_type": "code",
      "metadata": {
        "id": "Q-BUJOl_1iaZ",
        "colab_type": "code",
        "colab": {}
      },
      "source": [
        "input_tensor_train, input_tensor_val, target_tensor_train, target_tensor_val = train_test_split(inp_lang, target_tensor, test_size=0.2)"
      ],
      "execution_count": 0,
      "outputs": []
    },
    {
      "cell_type": "code",
      "metadata": {
        "id": "zBOc0dQmguX-",
        "colab_type": "code",
        "colab": {}
      },
      "source": [
        "def split_at_space(x,y):\n",
        "  return tf.strings.split(x),y"
      ],
      "execution_count": 0,
      "outputs": []
    },
    {
      "cell_type": "code",
      "metadata": {
        "id": "khsxv8tRhLqq",
        "colab_type": "code",
        "colab": {}
      },
      "source": [
        "def inp_embed(x,y):\n",
        "  return embedding_layer(x),y"
      ],
      "execution_count": 0,
      "outputs": []
    },
    {
      "cell_type": "code",
      "metadata": {
        "id": "d7QA5j1siunO",
        "colab_type": "code",
        "colab": {}
      },
      "source": [
        "def pad_embed(x,y):\n",
        "  num=tf.shape(x)[0]\n",
        "  pad_num=tf.constant(13)-num\n",
        "  return tf.pad(x,[[pad_num,0],[0,0]]),y\n"
      ],
      "execution_count": 0,
      "outputs": []
    },
    {
      "cell_type": "code",
      "metadata": {
        "id": "4w6rM8Bl1iad",
        "colab_type": "code",
        "colab": {}
      },
      "source": [
        "dataset = tf.data.Dataset.from_tensor_slices((input_tensor_train, target_tensor_train)).map(split_at_space).map(inp_embed)"
      ],
      "execution_count": 0,
      "outputs": []
    },
    {
      "cell_type": "code",
      "metadata": {
        "id": "34A327PIh-aB",
        "colab_type": "code",
        "colab": {}
      },
      "source": [
        "dataset = dataset.filter(lambda x,y: tf.equal( tf.math.maximum( tf.shape(x)[0], tf.constant(13) ), tf.constant(13)))"
      ],
      "execution_count": 0,
      "outputs": []
    },
    {
      "cell_type": "code",
      "metadata": {
        "id": "3k9ilbTZm_PA",
        "colab_type": "code",
        "colab": {}
      },
      "source": [
        "dataset = dataset.map(pad_embed)"
      ],
      "execution_count": 0,
      "outputs": []
    },
    {
      "cell_type": "code",
      "metadata": {
        "id": "q0Fdso381ian",
        "colab_type": "code",
        "colab": {}
      },
      "source": [
        "dataset = dataset.batch(BATCH_SIZE).prefetch(buffer_size=tf.data.experimental.AUTOTUNE)"
      ],
      "execution_count": 0,
      "outputs": []
    },
    {
      "cell_type": "code",
      "metadata": {
        "id": "bGqlxuqZ1ias",
        "colab_type": "code",
        "colab": {}
      },
      "source": [
        "val_dataset = tf.data.Dataset.from_tensor_slices((input_tensor_val, target_tensor_val)).map(split_at_space).map(inp_embed)"
      ],
      "execution_count": 0,
      "outputs": []
    },
    {
      "cell_type": "code",
      "metadata": {
        "id": "MdqSXEoX1iav",
        "colab_type": "code",
        "colab": {}
      },
      "source": [
        "val_dataset = val_dataset.filter(lambda x,y: tf.equal( tf.math.maximum( tf.shape(x)[0], tf.constant(13) ), tf.constant(13)))"
      ],
      "execution_count": 0,
      "outputs": []
    },
    {
      "cell_type": "code",
      "metadata": {
        "id": "KLut-AhOnk6t",
        "colab_type": "code",
        "colab": {}
      },
      "source": [
        "val_dataset = val_dataset.map(pad_embed).batch(BATCH_SIZE)"
      ],
      "execution_count": 0,
      "outputs": []
    },
    {
      "cell_type": "code",
      "metadata": {
        "id": "LchJfq4jnk-3",
        "colab_type": "code",
        "outputId": "6f17acb6-83c6-4755-83a2-ae9cdc3ad68a",
        "colab": {
          "base_uri": "https://localhost:8080/",
          "height": 51
        }
      },
      "source": [
        "print(dataset.element_spec)\n",
        "print(val_dataset.element_spec)"
      ],
      "execution_count": 40,
      "outputs": [
        {
          "output_type": "stream",
          "text": [
            "(TensorSpec(shape=(None, None, 128), dtype=tf.float32, name=None), TensorSpec(shape=(None, 14), dtype=tf.int32, name=None))\n",
            "(TensorSpec(shape=(None, None, 128), dtype=tf.float32, name=None), TensorSpec(shape=(None, 14), dtype=tf.int32, name=None))\n"
          ],
          "name": "stdout"
        }
      ]
    },
    {
      "cell_type": "code",
      "metadata": {
        "id": "Pllyi_5pn_cZ",
        "colab_type": "code",
        "outputId": "707a6f01-e1df-4320-bbc5-f1fbdd13e281",
        "colab": {
          "base_uri": "https://localhost:8080/",
          "height": 34
        }
      },
      "source": [
        "for x,y in dataset.take(1):\n",
        "  print(tf.shape(x),tf.shape(y))"
      ],
      "execution_count": 41,
      "outputs": [
        {
          "output_type": "stream",
          "text": [
            "tf.Tensor([ 16  13 128], shape=(3,), dtype=int32) tf.Tensor([16 14], shape=(2,), dtype=int32)\n"
          ],
          "name": "stdout"
        }
      ]
    },
    {
      "cell_type": "code",
      "metadata": {
        "id": "17Fd4FEmo213",
        "colab_type": "code",
        "outputId": "846a0cf8-aa34-4d87-bb8a-98da1344557e",
        "colab": {
          "base_uri": "https://localhost:8080/",
          "height": 34
        }
      },
      "source": [
        "for x,y in val_dataset.take(1):\n",
        "  print(tf.shape(x),tf.shape(y))"
      ],
      "execution_count": 42,
      "outputs": [
        {
          "output_type": "stream",
          "text": [
            "tf.Tensor([ 16  13 128], shape=(3,), dtype=int32) tf.Tensor([16 14], shape=(2,), dtype=int32)\n"
          ],
          "name": "stdout"
        }
      ]
    },
    {
      "cell_type": "code",
      "metadata": {
        "id": "RT2TgvAxpR2u",
        "colab_type": "code",
        "outputId": "345a58a4-e412-4ffb-a206-d71e2cfde83f",
        "colab": {
          "base_uri": "https://localhost:8080/",
          "height": 310
        }
      },
      "source": [
        "for x,y in val_dataset.take(1):\n",
        "  print(y)"
      ],
      "execution_count": 43,
      "outputs": [
        {
          "output_type": "stream",
          "text": [
            "tf.Tensor(\n",
            "[[   1   27   73 1726    3    2    0    0    0    0    0    0    0    0]\n",
            " [   1  873   25   11  148   21    3    2    0    0    0    0    0    0]\n",
            " [   1   92    8  727    3    2    0    0    0    0    0    0    0    0]\n",
            " [   1    5  681   40 4027    3    2    0    0    0    0    0    0    0]\n",
            " [   1    4   15   12  363    3    2    0    0    0    0    0    0    0]\n",
            " [   1    4  209   45    3    2    0    0    0    0    0    0    0    0]\n",
            " [   1   11    6  723 1518    3    2    0    0    0    0    0    0    0]\n",
            " [   1    5   16   34   12 1510    3    2    0    0    0    0    0    0]\n",
            " [   1    4   94 5658    3    2    0    0    0    0    0    0    0    0]\n",
            " [   1   27   73  723   49    3    2    0    0    0    0    0    0    0]\n",
            " [   1    4  180  112    3    2    0    0    0    0    0    0    0    0]\n",
            " [   1    5   16  501    3    2    0    0    0    0    0    0    0    0]\n",
            " [   1   11    6   20 4445    3    2    0    0    0    0    0    0    0]\n",
            " [   1  140   27    5  767    7    2    0    0    0    0    0    0    0]\n",
            " [   1  515 1471    9    2    0    0    0    0    0    0    0    0    0]\n",
            " [   1 4162   13   22    7    2    0    0    0    0    0    0    0    0]], shape=(16, 14), dtype=int32)\n"
          ],
          "name": "stdout"
        }
      ]
    },
    {
      "cell_type": "markdown",
      "metadata": {
        "id": "isIYhjq01iay",
        "colab_type": "text"
      },
      "source": [
        "## 3. Create the custom layer\n",
        "You will now create a custom layer to add the learned end token embedding to the encoder model:"
      ]
    },
    {
      "cell_type": "code",
      "metadata": {
        "id": "e22f1Xyh6xvE",
        "colab_type": "code",
        "outputId": "f97b76ec-b5bc-4a84-8f1c-e025518b551e",
        "colab": {
          "base_uri": "https://localhost:8080/",
          "height": 423
        }
      },
      "source": [
        "# Run this cell to download and view a schematic diagram for the encoder model\n",
        "\n",
        "!wget -q -O neural_translation_model.png --no-check-certificate \"https://docs.google.com/uc?export=download&id=1JrtNOzUJDaOWrK4C-xv-4wUuZaI12sQI\"\n",
        "Image(\"neural_translation_model.png\")"
      ],
      "execution_count": 44,
      "outputs": [
        {
          "output_type": "execute_result",
          "data": {
            "image/png": "[encoded data removed]",
            "text/plain": [
              "<IPython.core.display.Image object>"
            ]
          },
          "metadata": {
            "tags": []
          },
          "execution_count": 44
        }
      ]
    },
    {
      "cell_type": "markdown",
      "metadata": {
        "id": "M6gLIHG81iaz",
        "colab_type": "text"
      },
      "source": [
        "You should now build the custom layer.\n",
        "* Using layer subclassing, create a custom layer that takes a batch of English data examples from one of the Datasets, and adds a learned embedded ‘end’ token to the end of each sequence. \n",
        "* This layer should create a TensorFlow Variable (that will be learned during training) that is 128-dimensional (the size of the embedding space). _Hint: you may find it helpful in the call method to use the tf.tile function to replicate the end token embedding across every element in the batch._\n",
        "* Using the Dataset `.take(1)` method, extract a batch of English data examples from the training Dataset and print the shape. Test the custom layer by calling the layer on the English data batch Tensor and print the resulting Tensor shape (the layer should increase the sequence length by one)."
      ]
    },
    {
      "cell_type": "code",
      "metadata": {
        "id": "4PwI32O11ia3",
        "colab_type": "code",
        "colab": {}
      },
      "source": [
        "class AddEndToken(tf.keras.layers.Layer):\n",
        "  def __init__(self, **kwargs):\n",
        "    super(AddEndToken, self).__init__(**kwargs)\n",
        "  \n",
        "  def build(self, input_shape):\n",
        "    w_init = tf.random_normal_initializer()\n",
        "    self.end_embed = tf.Variable(initial_value=w_init(shape=(1,1,input_shape[-1])), trainable=True)\n",
        "\n",
        "  def call(self, inputs):\n",
        "    batch_sz = tf.shape(inputs)[0]\n",
        "    dupli =tf.tile(input = self.end_embed , multiples = [batch_sz,1,1])\n",
        "    return tf.concat([inputs,dupli], axis = 1)\n"
      ],
      "execution_count": 0,
      "outputs": []
    },
    {
      "cell_type": "code",
      "metadata": {
        "id": "ebjK8PmL1ia6",
        "colab_type": "code",
        "colab": {}
      },
      "source": [
        ""
      ],
      "execution_count": 0,
      "outputs": []
    },
    {
      "cell_type": "code",
      "metadata": {
        "id": "iNU12TdMLb4L",
        "colab_type": "code",
        "outputId": "89679029-67c1-4f97-b07b-882b14157239",
        "colab": {
          "base_uri": "https://localhost:8080/",
          "height": 1000
        }
      },
      "source": [
        "for x,y in val_dataset.take(1):\n",
        "  print('Before')\n",
        "  print(tf.shape(x))\n",
        "  print('After')\n",
        "  test = AddEndToken()\n",
        "  print(tf.shape(test(x)))\n",
        "  print()\n",
        "  print()\n",
        "  print(test(x))"
      ],
      "execution_count": 46,
      "outputs": [
        {
          "output_type": "stream",
          "text": [
            "Before\n",
            "tf.Tensor([ 16  13 128], shape=(3,), dtype=int32)\n",
            "After\n",
            "tf.Tensor([ 16  14 128], shape=(3,), dtype=int32)\n",
            "\n",
            "\n",
            "tf.Tensor(\n",
            "[[[ 0.          0.          0.         ...  0.          0.\n",
            "    0.        ]\n",
            "  [ 0.          0.          0.         ...  0.          0.\n",
            "    0.        ]\n",
            "  [ 0.          0.          0.         ...  0.          0.\n",
            "    0.        ]\n",
            "  ...\n",
            "  [ 0.04862603  0.05439071 -0.03003617 ...  0.04848041 -0.00056088\n",
            "    0.07348456]\n",
            "  [ 0.012986    0.08981702  0.16017003 ...  0.06796802  0.13528903\n",
            "   -0.022035  ]\n",
            "  [ 0.06497616 -0.04031726 -0.04130591 ... -0.04961526 -0.02859851\n",
            "   -0.07430954]]\n",
            "\n",
            " [[ 0.          0.          0.         ...  0.          0.\n",
            "    0.        ]\n",
            "  [ 0.          0.          0.         ...  0.          0.\n",
            "    0.        ]\n",
            "  [ 0.          0.          0.         ...  0.          0.\n",
            "    0.        ]\n",
            "  ...\n",
            "  [-0.02939037 -0.04664805  0.09197677 ... -0.03163381  0.14743619\n",
            "    0.01193436]\n",
            "  [ 0.012986    0.08981702  0.16017003 ...  0.06796802  0.13528903\n",
            "   -0.022035  ]\n",
            "  [ 0.06497616 -0.04031726 -0.04130591 ... -0.04961526 -0.02859851\n",
            "   -0.07430954]]\n",
            "\n",
            " [[ 0.          0.          0.         ...  0.          0.\n",
            "    0.        ]\n",
            "  [ 0.          0.          0.         ...  0.          0.\n",
            "    0.        ]\n",
            "  [ 0.          0.          0.         ...  0.          0.\n",
            "    0.        ]\n",
            "  ...\n",
            "  [ 0.06300776 -0.13310035 -0.04497001 ... -0.06806377  0.09221636\n",
            "   -0.01072316]\n",
            "  [ 0.012986    0.08981702  0.16017003 ...  0.06796802  0.13528903\n",
            "   -0.022035  ]\n",
            "  [ 0.06497616 -0.04031726 -0.04130591 ... -0.04961526 -0.02859851\n",
            "   -0.07430954]]\n",
            "\n",
            " ...\n",
            "\n",
            " [[ 0.          0.          0.         ...  0.          0.\n",
            "    0.        ]\n",
            "  [ 0.          0.          0.         ...  0.          0.\n",
            "    0.        ]\n",
            "  [ 0.          0.          0.         ...  0.          0.\n",
            "    0.        ]\n",
            "  ...\n",
            "  [-0.03886752  0.0589633  -0.05857971 ... -0.01113926  0.11953395\n",
            "   -0.18164876]\n",
            "  [-0.01335301  0.11507112  0.12568313 ...  0.08157409  0.13599715\n",
            "   -0.03076603]\n",
            "  [ 0.06497616 -0.04031726 -0.04130591 ... -0.04961526 -0.02859851\n",
            "   -0.07430954]]\n",
            "\n",
            " [[ 0.          0.          0.         ...  0.          0.\n",
            "    0.        ]\n",
            "  [ 0.          0.          0.         ...  0.          0.\n",
            "    0.        ]\n",
            "  [ 0.          0.          0.         ...  0.          0.\n",
            "    0.        ]\n",
            "  ...\n",
            "  [-0.00606817 -0.02872853 -0.01465691 ... -0.13300353  0.15342917\n",
            "   -0.09328078]\n",
            "  [-0.02885591  0.11113551  0.13474926 ...  0.09192991  0.1173007\n",
            "   -0.01730555]\n",
            "  [ 0.06497616 -0.04031726 -0.04130591 ... -0.04961526 -0.02859851\n",
            "   -0.07430954]]\n",
            "\n",
            " [[ 0.          0.          0.         ...  0.          0.\n",
            "    0.        ]\n",
            "  [ 0.          0.          0.         ...  0.          0.\n",
            "    0.        ]\n",
            "  [ 0.          0.          0.         ...  0.          0.\n",
            "    0.        ]\n",
            "  ...\n",
            "  [ 0.08475536 -0.0175497   0.10450941 ... -0.08552451  0.0354136\n",
            "    0.02467497]\n",
            "  [-0.01335301  0.11507112  0.12568313 ...  0.08157409  0.13599715\n",
            "   -0.03076603]\n",
            "  [ 0.06497616 -0.04031726 -0.04130591 ... -0.04961526 -0.02859851\n",
            "   -0.07430954]]], shape=(16, 14, 128), dtype=float32)\n"
          ],
          "name": "stdout"
        }
      ]
    },
    {
      "cell_type": "markdown",
      "metadata": {
        "id": "OAd3i4_y1ia-",
        "colab_type": "text"
      },
      "source": [
        "## 4. Build the encoder network\n",
        "The encoder network follows the schematic diagram above. You should now build the RNN encoder model.\n",
        "* Using the functional API, build the encoder network according to the following spec:\n",
        "    * The model will take a batch of sequences of embedded English words as input, as given by the Dataset objects.\n",
        "    * The next layer in the encoder will be the custom layer you created previously, to add a learned end token embedding to the end of the English sequence.\n",
        "    * This is followed by a Masking layer, with the `mask_value` set to the distinct padding value you used when you padded the English sequences with the Dataset preprocessing above.\n",
        "    * The final layer is an LSTM layer with 512 units, which also returns the hidden and cell states.\n",
        "    * The encoder is a multi-output model. There should be two output Tensors of this model: the hidden state and cell states of the LSTM layer. The output of the LSTM layer is unused.\n",
        "* Using the Dataset `.take(1)` method, extract a batch of English data examples from the training Dataset and test the encoder model by calling it on the English data Tensor, and print the shape of the resulting Tensor outputs.\n",
        "* Print the model summary for the encoder network."
      ]
    },
    {
      "cell_type": "code",
      "metadata": {
        "id": "6R2LqbfV1ia_",
        "colab_type": "code",
        "colab": {}
      },
      "source": [
        "# class Encoder(tf.keras.Model):\n",
        "\n",
        "#     def __init__(self, batch_sz, **kwargs):\n",
        "#       super(Encoder, self).__init__(**kwargs)\n",
        "#       self.batch_sz = batch_sz\n",
        "#       self.add_token = AddEndToken(self.batch_sz)\n",
        "#       self.mask = tf.keras.layers.Masking(mask_value=0.0)\n",
        "#       self.lstm = tf.keras.layers.LSTM(512, return_sequences=True, return_state=True)\n",
        "        \n",
        "        \n",
        "        \n",
        "#     def call(self, inputs):\n",
        "\n",
        "#       x = self.add_token(inputs)\n",
        "#       x = self.mask(x)\n",
        "#       output, hidden_state, cell_state =self.lstm(x)\n",
        "      \n",
        "#       return tf.keras.models.Model(inputs=inputs, outputs = [hidden_state,cell_state])"
      ],
      "execution_count": 0,
      "outputs": []
    },
    {
      "cell_type": "code",
      "metadata": {
        "id": "q_fOpKlDol6u",
        "colab_type": "code",
        "colab": {}
      },
      "source": [
        "def get_encoder():\n",
        "  encoder_input = tf.keras.layers.Input(shape=(None, 128))\n",
        "  h = AddEndToken()(encoder_input)\n",
        "  h = tf.keras.layers.Masking(mask_value=0.0)(h)\n",
        "  enc_output, enc_hidden, enc_cell = tf.keras.layers.LSTM(512, return_state=True)(h)\n",
        "  return tf.keras.models.Model(inputs=encoder_input, outputs=[enc_hidden, enc_cell])\n"
      ],
      "execution_count": 0,
      "outputs": []
    },
    {
      "cell_type": "code",
      "metadata": {
        "id": "e5XW6NxL1ibC",
        "colab_type": "code",
        "colab": {}
      },
      "source": [
        "encoder = get_encoder()"
      ],
      "execution_count": 0,
      "outputs": []
    },
    {
      "cell_type": "code",
      "metadata": {
        "id": "hAvDswIepr3C",
        "colab_type": "code",
        "outputId": "49040250-865a-47e0-d1c8-6d546eeaa238",
        "colab": {
          "base_uri": "https://localhost:8080/",
          "height": 293
        }
      },
      "source": [
        "encoder.summary()"
      ],
      "execution_count": 50,
      "outputs": [
        {
          "output_type": "stream",
          "text": [
            "Model: \"model\"\n",
            "_________________________________________________________________\n",
            "Layer (type)                 Output Shape              Param #   \n",
            "=================================================================\n",
            "input_1 (InputLayer)         [(None, None, 128)]       0         \n",
            "_________________________________________________________________\n",
            "add_end_token_1 (AddEndToken (None, None, 128)         128       \n",
            "_________________________________________________________________\n",
            "masking (Masking)            (None, None, 128)         0         \n",
            "_________________________________________________________________\n",
            "lstm (LSTM)                  [(None, 512), (None, 512) 1312768   \n",
            "=================================================================\n",
            "Total params: 1,312,896\n",
            "Trainable params: 1,312,896\n",
            "Non-trainable params: 0\n",
            "_________________________________________________________________\n"
          ],
          "name": "stdout"
        }
      ]
    },
    {
      "cell_type": "code",
      "metadata": {
        "id": "n5FOlV8nrPam",
        "colab_type": "code",
        "outputId": "0ce3a3ba-18c1-46f3-e9c6-be37859f121b",
        "colab": {
          "base_uri": "https://localhost:8080/",
          "height": 34
        }
      },
      "source": [
        "for x,y in dataset.take(1):\n",
        "  print([t.shape for t in encoder(x)])\n"
      ],
      "execution_count": 58,
      "outputs": [
        {
          "output_type": "stream",
          "text": [
            "[TensorShape([16, 512]), TensorShape([16, 512])]\n"
          ],
          "name": "stdout"
        }
      ]
    },
    {
      "cell_type": "code",
      "metadata": {
        "id": "jEk9ikVh1ibL",
        "colab_type": "code",
        "outputId": "32a1832a-32cf-4809-9608-cbb504a2cf38",
        "colab": {
          "base_uri": "https://localhost:8080/",
          "height": 34
        }
      },
      "source": [
        "for x,y in dataset.take(1):\n",
        "  h,c = encoder(x)\n",
        "  print(h.shape,c.shape)"
      ],
      "execution_count": 59,
      "outputs": [
        {
          "output_type": "stream",
          "text": [
            "(16, 512) (16, 512)\n"
          ],
          "name": "stdout"
        }
      ]
    },
    {
      "cell_type": "code",
      "metadata": {
        "id": "eSwz2gDmUmXW",
        "colab_type": "code",
        "outputId": "0e50ec6c-7e22-4c4b-bb43-37f9f83d315a",
        "colab": {
          "base_uri": "https://localhost:8080/",
          "height": 293
        }
      },
      "source": [
        "encoder.summary()"
      ],
      "execution_count": 60,
      "outputs": [
        {
          "output_type": "stream",
          "text": [
            "Model: \"model\"\n",
            "_________________________________________________________________\n",
            "Layer (type)                 Output Shape              Param #   \n",
            "=================================================================\n",
            "input_1 (InputLayer)         [(None, None, 128)]       0         \n",
            "_________________________________________________________________\n",
            "add_end_token_1 (AddEndToken (None, None, 128)         128       \n",
            "_________________________________________________________________\n",
            "masking (Masking)            (None, None, 128)         0         \n",
            "_________________________________________________________________\n",
            "lstm (LSTM)                  [(None, 512), (None, 512) 1312768   \n",
            "=================================================================\n",
            "Total params: 1,312,896\n",
            "Trainable params: 1,312,896\n",
            "Non-trainable params: 0\n",
            "_________________________________________________________________\n"
          ],
          "name": "stdout"
        }
      ]
    },
    {
      "cell_type": "markdown",
      "metadata": {
        "id": "KvkzpCeZ1ibR",
        "colab_type": "text"
      },
      "source": [
        "## 5. Build the decoder network\n",
        "The decoder network follows the schematic diagram below. "
      ]
    },
    {
      "cell_type": "code",
      "metadata": {
        "id": "yOjEb7cH7Y4S",
        "colab_type": "code",
        "outputId": "f1791dcb-0225-40a4-a7bb-6e6e365d3748",
        "colab": {
          "base_uri": "https://localhost:8080/",
          "height": 501
        }
      },
      "source": [
        "# Run this cell to download and view a schematic diagram for the decoder model\n",
        "\n",
        "!wget -q -O neural_translation_model.png --no-check-certificate \"https://docs.google.com/uc?export=download&id=1DTeaXD8tA8RjkpVrB2mr9csSBOY4LQiW\"\n",
        "Image(\"neural_translation_model.png\")"
      ],
      "execution_count": 61,
      "outputs": [
        {
          "output_type": "execute_result",
          "data": {
            "image/png": "[encoded data removed]",
            "text/plain": [
              "<IPython.core.display.Image object>"
            ]
          },
          "metadata": {
            "tags": []
          },
          "execution_count": 61
        }
      ]
    },
    {
      "cell_type": "markdown",
      "metadata": {
        "id": "VPBK8WGL1ibS",
        "colab_type": "text"
      },
      "source": [
        "You should now build the RNN decoder model.\n",
        "* Using Model subclassing, build the decoder network according to the following spec:\n",
        "    * The initializer should create the following layers:\n",
        "        * An Embedding layer with vocabulary size set to the number of unique German tokens, embedding dimension 128, and set to mask zero values in the input.\n",
        "        * An LSTM layer with 512 units, that returns its hidden and cell states, and also returns sequences.\n",
        "        * A Dense layer with number of units equal to the number of unique German tokens, and no activation function.\n",
        "    * The call method should include the usual `inputs` argument, as well as the additional keyword arguments `hidden_state` and `cell_state`. The default value for these keyword arguments should be `None`.\n",
        "    * The call method should pass the inputs through the Embedding layer, and then through the LSTM layer. If the `hidden_state` and `cell_state` arguments are provided, these should be used for the initial state of the LSTM layer. _Hint: use the_ `initial_state` _keyword argument when calling the LSTM layer on its input._\n",
        "    * The call method should pass the LSTM output sequence through the Dense layer, and return the resulting Tensor, along with the hidden and cell states of the LSTM layer.\n",
        "* Using the Dataset `.take(1)` method, extract a batch of English and German data examples from the training Dataset. Test the decoder model by first calling the encoder model on the English data Tensor to get the hidden and cell states, and then call the decoder model on the German data Tensor and hidden and cell states, and print the shape of the resulting decoder Tensor outputs.\n",
        "* Print the model summary for the decoder network."
      ]
    },
    {
      "cell_type": "code",
      "metadata": {
        "id": "l50qhnXD1ibT",
        "colab_type": "code",
        "colab": {}
      },
      "source": [
        "class Decoder(tf.keras.Model):\n",
        "  def __init__(self, vocab_size,  **kwargs):\n",
        "    super(Decoder, self).__init__(**kwargs)\n",
        "    self.embedding = tf.keras.layers.Embedding(vocab_size, 128)\n",
        "    self.mask = tf.keras.layers.Masking(mask_value=0)\n",
        "    self.lstm = tf.keras.layers.LSTM(512, return_sequences=True, return_state=True)\n",
        "    self.dense = tf.keras.layers.Dense(vocab_size)\n",
        "\n",
        "\n",
        "  def call(self, inputs, hidden_state=None, cell_state=None):\n",
        "    x = self.embedding(inputs)\n",
        "    x = self.mask(x)\n",
        "    output, hidden_state, cell_state =self.lstm(x, initial_state=[hidden_state, cell_state])\n",
        "    x = self.dense(output)\n",
        "\n",
        "\n",
        "    return x, hidden_state, cell_state"
      ],
      "execution_count": 0,
      "outputs": []
    },
    {
      "cell_type": "code",
      "metadata": {
        "id": "vG5CRIXV1ibi",
        "colab_type": "code",
        "colab": {}
      },
      "source": [
        "decoder = Decoder(vocab_tar_size)"
      ],
      "execution_count": 0,
      "outputs": []
    },
    {
      "cell_type": "code",
      "metadata": {
        "id": "W1OSERfoRpIV",
        "colab_type": "code",
        "colab": {}
      },
      "source": [
        "# dec_input = tf.expand_dims([targ_lang.word_index['<start>']] * BATCH_SIZE, 1)"
      ],
      "execution_count": 0,
      "outputs": []
    },
    {
      "cell_type": "code",
      "metadata": {
        "id": "SvqqT_ET1ibl",
        "colab_type": "code",
        "outputId": "2c5722de-6643-4211-c2e6-b2e338bc880b",
        "colab": {
          "base_uri": "https://localhost:8080/",
          "height": 34
        }
      },
      "source": [
        "for x,y in dataset.take(1):\n",
        "  h,c = encoder(x)\n",
        "  x, h1, c1 = decoder(y, h, c)\n",
        "  print(x.shape, h1.shape, c1.shape)"
      ],
      "execution_count": 65,
      "outputs": [
        {
          "output_type": "stream",
          "text": [
            "(16, 14, 5744) (16, 512) (16, 512)\n"
          ],
          "name": "stdout"
        }
      ]
    },
    {
      "cell_type": "code",
      "metadata": {
        "id": "Sa-mvXghYla0",
        "colab_type": "code",
        "outputId": "e9b6bb02-9736-4e92-9995-9be7277bf737",
        "colab": {
          "base_uri": "https://localhost:8080/",
          "height": 293
        }
      },
      "source": [
        "decoder.summary()"
      ],
      "execution_count": 66,
      "outputs": [
        {
          "output_type": "stream",
          "text": [
            "Model: \"decoder_1\"\n",
            "_________________________________________________________________\n",
            "Layer (type)                 Output Shape              Param #   \n",
            "=================================================================\n",
            "embedding_1 (Embedding)      multiple                  735232    \n",
            "_________________________________________________________________\n",
            "masking_2 (Masking)          multiple                  0         \n",
            "_________________________________________________________________\n",
            "lstm_2 (LSTM)                multiple                  1312768   \n",
            "_________________________________________________________________\n",
            "dense_1 (Dense)              multiple                  2946672   \n",
            "=================================================================\n",
            "Total params: 4,994,672\n",
            "Trainable params: 4,994,672\n",
            "Non-trainable params: 0\n",
            "_________________________________________________________________\n"
          ],
          "name": "stdout"
        }
      ]
    },
    {
      "cell_type": "markdown",
      "metadata": {
        "id": "pST9XGJ81ibo",
        "colab_type": "text"
      },
      "source": [
        "## 6. Make a custom training loop\n",
        "You should now write a custom training loop to train your custom neural translation model.\n",
        "* Define a function that takes a Tensor batch of German data (as extracted from the training Dataset), and returns a tuple containing German inputs and outputs for the decoder model (refer to schematic diagram above).\n",
        "* Define a function that computes the forward and backward pass for your translation model. This function should take an English input, German input and German output as arguments, and should do the following:\n",
        "    * Pass the English input into the encoder, to get the hidden and cell states of the encoder LSTM.\n",
        "    * These hidden and cell states are then passed into the decoder, along with the German inputs, which returns a sequence of outputs (the hidden and cell state outputs of the decoder LSTM are unused in this function).\n",
        "    * The loss should then be computed between the decoder outputs and the German output function argument.\n",
        "    * The function returns the loss and gradients with respect to the encoder and decoder’s trainable variables.\n",
        "    * Decorate the function with `@tf.function`\n",
        "* Define and run a custom training loop for a number of epochs (for you to choose) that does the following:\n",
        "    * Iterates through the training dataset, and creates decoder inputs and outputs from the German sequences.\n",
        "    * Updates the parameters of the translation model using the gradients of the function above and an optimizer object.\n",
        "    * Every epoch, compute the validation loss on a number of batches from the validation and save the epoch training and validation losses.\n",
        "* Plot the learning curves for loss vs epoch for both training and validation sets.\n",
        "\n",
        "_Hint: This model is computationally demanding to train. The quality of the model or length of training is not a factor in the grading rubric. However, to obtain a better model we recommend using the GPU accelerator hardware on Colab._"
      ]
    },
    {
      "cell_type": "code",
      "metadata": {
        "id": "lSngCT1Cfk6w",
        "colab_type": "code",
        "outputId": "be3b88d2-9c20-4d49-ca30-5bc0f66a7d43",
        "colab": {
          "base_uri": "https://localhost:8080/",
          "height": 34
        }
      },
      "source": [
        "for x,y in dataset.take(1):\n",
        "  print(x.shape,y.shape)"
      ],
      "execution_count": 67,
      "outputs": [
        {
          "output_type": "stream",
          "text": [
            "(16, 13, 128) (16, 14)\n"
          ],
          "name": "stdout"
        }
      ]
    },
    {
      "cell_type": "code",
      "metadata": {
        "id": "awD1BhVDtz3Y",
        "colab_type": "code",
        "colab": {}
      },
      "source": [
        "def get_targ_inputs_outputs(targ_in):\n",
        "  return targ_in[:, :-1], targ_in[:, 1:]"
      ],
      "execution_count": 0,
      "outputs": []
    },
    {
      "cell_type": "code",
      "metadata": {
        "id": "jeToG2QOt5ag",
        "colab_type": "code",
        "outputId": "f7b58990-d065-4c1c-e71f-112ebd249221",
        "colab": {
          "base_uri": "https://localhost:8080/",
          "height": 1000
        }
      },
      "source": [
        "for x,y in dataset.take(1):\n",
        "  print(get_targ_inputs_outputs(y))"
      ],
      "execution_count": 69,
      "outputs": [
        {
          "output_type": "stream",
          "text": [
            "(<tf.Tensor: shape=(16, 13), dtype=int32, numpy=\n",
            "array([[   1,    4,   39,   12, 4291,    3,    2,    0,    0,    0,    0,\n",
            "           0,    0],\n",
            "       [   1,    4,  441,   12,  407,    3,    2,    0,    0,    0,    0,\n",
            "           0,    0],\n",
            "       [   1, 2887,   86,  170,    3,    2,    0,    0,    0,    0,    0,\n",
            "           0,    0],\n",
            "       [   1,   43,   16,   26,  550,    7,    2,    0,    0,    0,    0,\n",
            "           0,    0],\n",
            "       [   1,   10,   24,   99,   63,    3,    2,    0,    0,    0,    0,\n",
            "           0,    0],\n",
            "       [   1,    4,   15, 1105,    3,    2,    0,    0,    0,    0,    0,\n",
            "           0,    0],\n",
            "       [   1,    4,  213,   22, 1784,    3,    2,    0,    0,    0,    0,\n",
            "           0,    0],\n",
            "       [   1,   26,  304,  111,  223,  170,    3,    2,    0,    0,    0,\n",
            "           0,    0],\n",
            "       [   1,  264,    8, 1829,    3,    2,    0,    0,    0,    0,    0,\n",
            "           0,    0],\n",
            "       [   1,    4,   84,   11,   20, 4228,    3,    2,    0,    0,    0,\n",
            "           0,    0],\n",
            "       [   1,  288,   44,   12,   29,    3,    2,    0,    0,    0,    0,\n",
            "           0,    0],\n",
            "       [   1,    4,   15,   12,   70,  179,    3,    2,    0,    0,    0,\n",
            "           0,    0],\n",
            "       [   1,    5,   16,   22,  443,    3,    2,    0,    0,    0,    0,\n",
            "           0,    0],\n",
            "       [   1,    4,   15,   80,   12,   98,    3,    2,    0,    0,    0,\n",
            "           0,    0],\n",
            "       [   1,    8,   35,   34, 2743,    3,    2,    0,    0,    0,    0,\n",
            "           0,    0],\n",
            "       [   1,    5,   68,  901,    3,    2,    0,    0,    0,    0,    0,\n",
            "           0,    0]], dtype=int32)>, <tf.Tensor: shape=(16, 13), dtype=int32, numpy=\n",
            "array([[   4,   39,   12, 4291,    3,    2,    0,    0,    0,    0,    0,\n",
            "           0,    0],\n",
            "       [   4,  441,   12,  407,    3,    2,    0,    0,    0,    0,    0,\n",
            "           0,    0],\n",
            "       [2887,   86,  170,    3,    2,    0,    0,    0,    0,    0,    0,\n",
            "           0,    0],\n",
            "       [  43,   16,   26,  550,    7,    2,    0,    0,    0,    0,    0,\n",
            "           0,    0],\n",
            "       [  10,   24,   99,   63,    3,    2,    0,    0,    0,    0,    0,\n",
            "           0,    0],\n",
            "       [   4,   15, 1105,    3,    2,    0,    0,    0,    0,    0,    0,\n",
            "           0,    0],\n",
            "       [   4,  213,   22, 1784,    3,    2,    0,    0,    0,    0,    0,\n",
            "           0,    0],\n",
            "       [  26,  304,  111,  223,  170,    3,    2,    0,    0,    0,    0,\n",
            "           0,    0],\n",
            "       [ 264,    8, 1829,    3,    2,    0,    0,    0,    0,    0,    0,\n",
            "           0,    0],\n",
            "       [   4,   84,   11,   20, 4228,    3,    2,    0,    0,    0,    0,\n",
            "           0,    0],\n",
            "       [ 288,   44,   12,   29,    3,    2,    0,    0,    0,    0,    0,\n",
            "           0,    0],\n",
            "       [   4,   15,   12,   70,  179,    3,    2,    0,    0,    0,    0,\n",
            "           0,    0],\n",
            "       [   5,   16,   22,  443,    3,    2,    0,    0,    0,    0,    0,\n",
            "           0,    0],\n",
            "       [   4,   15,   80,   12,   98,    3,    2,    0,    0,    0,    0,\n",
            "           0,    0],\n",
            "       [   8,   35,   34, 2743,    3,    2,    0,    0,    0,    0,    0,\n",
            "           0,    0],\n",
            "       [   5,   68,  901,    3,    2,    0,    0,    0,    0,    0,    0,\n",
            "           0,    0]], dtype=int32)>)\n"
          ],
          "name": "stdout"
        }
      ]
    },
    {
      "cell_type": "code",
      "metadata": {
        "id": "7hJHbWqs1ibr",
        "colab_type": "code",
        "colab": {}
      },
      "source": [
        "optimizer = tf.keras.optimizers.Adam()\n",
        "loss_object = tf.keras.losses.SparseCategoricalCrossentropy(\n",
        "    from_logits=True)\n"
      ],
      "execution_count": 0,
      "outputs": []
    },
    {
      "cell_type": "code",
      "metadata": {
        "id": "mQDZwsXMuTGt",
        "colab_type": "code",
        "colab": {}
      },
      "source": [
        "@tf.function\n",
        "def get_loss_and_grads(inp, targ_in, targ_out):\n",
        "  with tf.GradientTape() as tape:\n",
        "    h, c = encoder(inp)\n",
        "    outputs, _, _ = decoder(targ_in, hidden_state=h, cell_state=c)\n",
        "    current_loss = loss_object(targ_out, outputs)\n",
        "    grads = tape.gradient(current_loss, encoder.trainable_variables + decoder.trainable_variables)\n",
        "  return current_loss, grads\n"
      ],
      "execution_count": 0,
      "outputs": []
    },
    {
      "cell_type": "code",
      "metadata": {
        "id": "N7JvuPFrvYOQ",
        "colab_type": "code",
        "colab": {}
      },
      "source": [
        "@tf.function\n",
        "def get_loss(inp, targ_in, targ_out):\n",
        "  h, c = encoder(inp)\n",
        "  outputs, _, _ = decoder(targ_in, hidden_state=h, cell_state=c)\n",
        "  return loss_object(targ_out, outputs)\n"
      ],
      "execution_count": 0,
      "outputs": []
    },
    {
      "cell_type": "code",
      "metadata": {
        "id": "M_0Wjl-2JSMo",
        "colab_type": "code",
        "colab": {}
      },
      "source": [
        "EPOCHS = 4\n",
        "\n",
        "encoder = get_encoder()\n",
        "\n",
        "decoder = Decoder(vocab_tar_size)\n",
        "\n",
        "steps_per_epoch = len(target_tensor_train)//BATCH_SIZE \n",
        "\n",
        "val_steps_per_epoch = len(target_tensor_val)//BATCH_SIZE//10 "
      ],
      "execution_count": 0,
      "outputs": []
    },
    {
      "cell_type": "code",
      "metadata": {
        "id": "rj7418XHOjSq",
        "colab_type": "code",
        "colab": {}
      },
      "source": [
        "checkpoint_dir = './training_checkpoints'\n",
        "checkpoint_prefix = os.path.join(checkpoint_dir, \"ckpt\")\n",
        "checkpoint = tf.train.Checkpoint(optimizer=optimizer,\n",
        "                                 encoder=encoder,\n",
        "                                 decoder=decoder)"
      ],
      "execution_count": 0,
      "outputs": []
    },
    {
      "cell_type": "code",
      "metadata": {
        "id": "GrztKmCc_jdX",
        "colab_type": "code",
        "colab": {}
      },
      "source": [
        "#move checkpoints from static gdrive to colab\n",
        "# !mv '/content/gdrive/My Drive/Screencastify/training_checkpoints' /content"
      ],
      "execution_count": 0,
      "outputs": []
    },
    {
      "cell_type": "code",
      "metadata": {
        "id": "b6jh9KydYSfk",
        "colab_type": "code",
        "outputId": "28485bc7-e104-43c1-8a8c-e40b4f16f38c",
        "colab": {
          "base_uri": "https://localhost:8080/",
          "height": 34
        }
      },
      "source": [
        "# restoring the latest checkpoint in checkpoint_dir\n",
        "checkpoint.restore(tf.train.latest_checkpoint(checkpoint_dir))"
      ],
      "execution_count": 77,
      "outputs": [
        {
          "output_type": "execute_result",
          "data": {
            "text/plain": [
              "<tensorflow.python.training.tracking.util.CheckpointLoadStatus at 0x7f346b920ef0>"
            ]
          },
          "metadata": {
            "tags": []
          },
          "execution_count": 77
        }
      ]
    },
    {
      "cell_type": "code",
      "metadata": {
        "id": "lTbCmCZju6LQ",
        "colab_type": "code",
        "colab": {
          "base_uri": "https://localhost:8080/",
          "height": 34
        },
        "outputId": "6038f423-acd7-40fa-b590-e94ce623ee1b"
      },
      "source": [
        "tf.train.latest_checkpoint(checkpoint_dir)"
      ],
      "execution_count": 78,
      "outputs": [
        {
          "output_type": "execute_result",
          "data": {
            "text/plain": [
              "'./training_checkpoints/ckpt-10'"
            ]
          },
          "metadata": {
            "tags": []
          },
          "execution_count": 78
        }
      ]
    },
    {
      "cell_type": "code",
      "metadata": {
        "id": "XRNHv3cZda21",
        "colab_type": "code",
        "outputId": "160824da-dd96-4015-e983-05bd73ec6157",
        "colab": {
          "base_uri": "https://localhost:8080/",
          "height": 915
        }
      },
      "source": [
        "loss_batches = []\n",
        "val_loss_batches = []\n",
        "\n",
        "\n",
        "for epoch in range(EPOCHS):\n",
        "  start = time.time()\n",
        "\n",
        "  total_loss = 0\n",
        "  val_total_loss = 0\n",
        "\n",
        "  for (batch, (inp, targ)) in enumerate(dataset.take(steps_per_epoch)):\n",
        "    targ_inp, targ_out = get_targ_inputs_outputs(targ)\n",
        "    batch_loss, grads = get_loss_and_grads(inp, targ_inp, targ_out)\n",
        "    total_loss += batch_loss\n",
        "    optimizer.apply_gradients(zip(grads, encoder.trainable_variables + decoder.trainable_variables))\n",
        "\n",
        "\n",
        "    if batch % 100 == 0:\n",
        "      print('Epoch {} Batch {} Loss {:.4f}'.format(epoch + 1,\n",
        "                                                   batch,\n",
        "                                                   batch_loss.numpy()))\n",
        "  \n",
        "\n",
        "  checkpoint.save(file_prefix = checkpoint_prefix)\n",
        "\n",
        "  for (val_inp,val_targ) in dataset.take(val_steps_per_epoch):\n",
        "    val_targ_inp, val_targ_out = get_targ_inputs_outputs(val_targ)\n",
        "    val_batch_loss = get_loss(val_inp, val_targ_inp, val_targ_out)\n",
        "    val_total_loss += val_batch_loss\n",
        "\n",
        "  loss_batches.append(total_loss/steps_per_epoch)\n",
        "  val_loss_batches.append(val_total_loss/val_steps_per_epoch)\n",
        "\n",
        "  print('Epoch {} Loss {:.4f} Val Loss {:.4f}'.format(epoch + 1,\n",
        "                                      total_loss / steps_per_epoch, val_total_loss/val_steps_per_epoch))\n",
        "  print('Time taken for 1 epoch {} sec\\n'.format(time.time() - start))"
      ],
      "execution_count": 79,
      "outputs": [
        {
          "output_type": "stream",
          "text": [
            "Epoch 1 Batch 0 Loss 0.3216\n",
            "Epoch 1 Batch 100 Loss 0.2934\n",
            "Epoch 1 Batch 200 Loss 0.2054\n",
            "Epoch 1 Batch 300 Loss 0.2374\n",
            "Epoch 1 Batch 400 Loss 0.3432\n",
            "Epoch 1 Batch 500 Loss 0.2672\n",
            "Epoch 1 Batch 600 Loss 0.2888\n",
            "Epoch 1 Batch 700 Loss 0.2800\n",
            "Epoch 1 Batch 800 Loss 0.6069\n",
            "Epoch 1 Batch 900 Loss 0.3327\n",
            "Epoch 1 Loss 0.3236 Val Loss 0.2671\n",
            "Time taken for 1 epoch 1882.9469623565674 sec\n",
            "\n",
            "Epoch 2 Batch 0 Loss 0.2666\n",
            "Epoch 2 Batch 100 Loss 0.1857\n",
            "Epoch 2 Batch 200 Loss 0.1471\n",
            "Epoch 2 Batch 300 Loss 0.1519\n",
            "Epoch 2 Batch 400 Loss 0.2454\n",
            "Epoch 2 Batch 500 Loss 0.2023\n",
            "Epoch 2 Batch 600 Loss 0.1819\n",
            "Epoch 2 Batch 700 Loss 0.1838\n",
            "Epoch 2 Batch 800 Loss 0.3475\n",
            "Epoch 2 Batch 900 Loss 0.2451\n",
            "Epoch 2 Loss 0.2214 Val Loss 0.2042\n",
            "Time taken for 1 epoch 1875.8755645751953 sec\n",
            "\n",
            "Epoch 3 Batch 0 Loss 0.1982\n",
            "Epoch 3 Batch 100 Loss 0.1383\n",
            "Epoch 3 Batch 200 Loss 0.1162\n",
            "Epoch 3 Batch 300 Loss 0.1134\n",
            "Epoch 3 Batch 400 Loss 0.1679\n",
            "Epoch 3 Batch 500 Loss 0.1674\n",
            "Epoch 3 Batch 600 Loss 0.1368\n",
            "Epoch 3 Batch 700 Loss 0.1552\n",
            "Epoch 3 Batch 800 Loss 0.2465\n",
            "Epoch 3 Batch 900 Loss 0.2085\n",
            "Epoch 3 Loss 0.1673 Val Loss 0.1641\n",
            "Time taken for 1 epoch 1874.853157043457 sec\n",
            "\n",
            "Epoch 4 Batch 0 Loss 0.1497\n",
            "Epoch 4 Batch 100 Loss 0.1287\n",
            "Epoch 4 Batch 200 Loss 0.0940\n",
            "Epoch 4 Batch 300 Loss 0.1060\n",
            "Epoch 4 Batch 400 Loss 0.1450\n",
            "Epoch 4 Batch 500 Loss 0.1527\n",
            "Epoch 4 Batch 600 Loss 0.1027\n",
            "Epoch 4 Batch 700 Loss 0.1216\n",
            "Epoch 4 Batch 800 Loss 0.1944\n",
            "Epoch 4 Batch 900 Loss 0.1596\n",
            "Epoch 4 Loss 0.1343 Val Loss 0.1408\n",
            "Time taken for 1 epoch 1897.5409932136536 sec\n",
            "\n"
          ],
          "name": "stdout"
        }
      ]
    },
    {
      "cell_type": "code",
      "metadata": {
        "id": "hgsJ7A3V70u8",
        "colab_type": "code",
        "outputId": "ffadebde-1769-4114-b6d7-f5b08c178d61",
        "colab": {
          "base_uri": "https://localhost:8080/",
          "height": 312
        }
      },
      "source": [
        "epochs = range(1,EPOCHS+1)\n",
        "plt.plot(epochs, loss_batches, 'g', label='Training loss')\n",
        "plt.plot(epochs, val_loss_batches, 'b', label='validation loss')\n",
        "plt.title('Training and Validation loss')\n",
        "plt.xlabel('Epochs')\n",
        "plt.ylabel('Loss')\n",
        "plt.legend()"
      ],
      "execution_count": 80,
      "outputs": [
        {
          "output_type": "execute_result",
          "data": {
            "text/plain": [
              "<matplotlib.legend.Legend at 0x7f346c0ea828>"
            ]
          },
          "metadata": {
            "tags": []
          },
          "execution_count": 80
        },
        {
          "output_type": "display_data",
          "data": {
            "image/png": "[encoded data removed]",
            "text/plain": [
              "<Figure size 432x288 with 1 Axes>"
            ]
          },
          "metadata": {
            "tags": [],
            "needs_background": "light"
          }
        }
      ]
    },
    {
      "cell_type": "markdown",
      "metadata": {
        "id": "xM2gvBM11ib-",
        "colab_type": "text"
      },
      "source": [
        "## 7. Use the model to translate\n",
        "Now it's time to put your model into practice! You should run your translation for five randomly sampled English sentences from the dataset. For each sentence, the process is as follows:\n",
        "* Preprocess and embed the English sentence according to the model requirements.\n",
        "* Pass the embedded sentence through the encoder to get the encoder hidden and cell states.\n",
        "* Starting with the special  `\"<start>\"` token, use this token and the final encoder hidden and cell states to get the one-step prediction from the decoder, as well as the decoder’s updated hidden and cell states.\n",
        "* Create a loop to get the next step prediction and updated hidden and cell states from the decoder, using the most recent hidden and cell states. Terminate the loop when the `\"<end>\"` token is emitted, or when the sentence has reached a maximum length.\n",
        "* Decode the output token sequence into German text and print the English text and the model's German translation."
      ]
    },
    {
      "cell_type": "code",
      "metadata": {
        "id": "j9U6yDyvl_7N",
        "colab_type": "code",
        "outputId": "c6222d7d-d8a8-41f6-a566-c72e629ad41f",
        "colab": {
          "base_uri": "https://localhost:8080/",
          "height": 34
        }
      },
      "source": [
        "# restoring the latest checkpoint in checkpoint_dir\n",
        "checkpoint.restore(tf.train.latest_checkpoint(checkpoint_dir))"
      ],
      "execution_count": 81,
      "outputs": [
        {
          "output_type": "execute_result",
          "data": {
            "text/plain": [
              "<tensorflow.python.training.tracking.util.CheckpointLoadStatus at 0x7f346b91ecc0>"
            ]
          },
          "metadata": {
            "tags": []
          },
          "execution_count": 81
        }
      ]
    },
    {
      "cell_type": "code",
      "metadata": {
        "id": "VhHWKehEQg59",
        "colab_type": "code",
        "outputId": "706a1274-e37b-45d2-fd3b-e2f04b77e00a",
        "colab": {
          "base_uri": "https://localhost:8080/",
          "height": 34
        }
      },
      "source": [
        "tf.train.latest_checkpoint(checkpoint_dir)"
      ],
      "execution_count": 82,
      "outputs": [
        {
          "output_type": "execute_result",
          "data": {
            "text/plain": [
              "'./training_checkpoints/ckpt-14'"
            ]
          },
          "metadata": {
            "tags": []
          },
          "execution_count": 82
        }
      ]
    },
    {
      "cell_type": "code",
      "metadata": {
        "id": "bGnQtE7L1icA",
        "colab_type": "code",
        "colab": {}
      },
      "source": [
        "def evaluate(sentence):\n",
        "\n",
        "  sentence = preprocess_sentence(sentence)\n",
        "\n",
        "  inputs = tf.strings.split(sentence)\n",
        "  inputs = embedding_layer(inputs)\n",
        "  # num=tf.shape(inputs)[0]\n",
        "  # pad_num=tf.constant(13)-num \n",
        "  # inputs=tf.pad(inputs,[[pad_num,0],[0,0]])\n",
        "\n",
        "  inputs = tf.expand_dims(inputs, axis =0)\n",
        "\n",
        "  enc_hidden, enc_cell = encoder(inputs)\n",
        "\n",
        "  dec_hidden = enc_hidden\n",
        "  dec_cell = enc_cell\n",
        "\n",
        "  dec_input = tf.expand_dims([targ_lang.word_index['<start>']], 0)\n",
        "\n",
        "  translation=[]\n",
        "\n",
        "  for t in range(max_length_targ):\n",
        "    dec_output, dec_hidden, dec_cell = decoder(dec_input, dec_hidden, dec_cell)\n",
        "    ger_token = tf.argmax(tf.squeeze(dec_output)).numpy()\n",
        "    if ger_token == 0:\n",
        "      break\n",
        "    ger_word = targ_lang.index_word[ger_token]\n",
        "\n",
        "    dec_input = tf.expand_dims([ger_token], axis=0)\n",
        "    if ger_word == \"<end>\":\n",
        "      break\n",
        "    translation.append(ger_word)\n",
        "\n",
        "  result = ' '.join(translation)\n",
        "\n",
        "  return result"
      ],
      "execution_count": 0,
      "outputs": []
    },
    {
      "cell_type": "code",
      "metadata": {
        "id": "Unk60cEy1icI",
        "colab_type": "code",
        "colab": {}
      },
      "source": [
        "def translate(sentence):\n",
        "  result = evaluate(sentence)\n",
        "\n",
        "  print('Input: %s' % (sentence))\n",
        "  print('Predicted translation: {}'.format(result))"
      ],
      "execution_count": 0,
      "outputs": []
    },
    {
      "cell_type": "code",
      "metadata": {
        "id": "Tc8-W8f2KUv0",
        "colab_type": "code",
        "outputId": "59816d7f-a766-45b4-a16b-aa007d0a0437",
        "colab": {
          "base_uri": "https://localhost:8080/",
          "height": 51
        }
      },
      "source": [
        "translate('Hi')"
      ],
      "execution_count": 85,
      "outputs": [
        {
          "output_type": "stream",
          "text": [
            "Input: Hi\n",
            "Predicted translation: hallo .\n"
          ],
          "name": "stdout"
        }
      ]
    },
    {
      "cell_type": "code",
      "metadata": {
        "id": "NtsoDlFTz8q8",
        "colab_type": "code",
        "outputId": "cee79cc3-d924-4bd3-c08a-89b4179b0225",
        "colab": {
          "base_uri": "https://localhost:8080/",
          "height": 51
        }
      },
      "source": [
        "translate('wow!')"
      ],
      "execution_count": 86,
      "outputs": [
        {
          "output_type": "stream",
          "text": [
            "Input: wow!\n",
            "Predicted translation: potzdonner !\n"
          ],
          "name": "stdout"
        }
      ]
    },
    {
      "cell_type": "code",
      "metadata": {
        "id": "aMbGxhJbav4X",
        "colab_type": "code",
        "outputId": "6793c9ad-441e-4449-957e-941412c9d2b4",
        "colab": {
          "base_uri": "https://localhost:8080/",
          "height": 51
        }
      },
      "source": [
        "translate('she is a student.')"
      ],
      "execution_count": 87,
      "outputs": [
        {
          "output_type": "stream",
          "text": [
            "Input: she is a student.\n",
            "Predicted translation: sie ist studentin .\n"
          ],
          "name": "stdout"
        }
      ]
    },
    {
      "cell_type": "code",
      "metadata": {
        "id": "xGd9w0xiavwB",
        "colab_type": "code",
        "outputId": "853804a1-02e6-44bd-fc95-0ea27adeac5e",
        "colab": {
          "base_uri": "https://localhost:8080/",
          "height": 51
        }
      },
      "source": [
        "translate('tom was unharmed.')"
      ],
      "execution_count": 88,
      "outputs": [
        {
          "output_type": "stream",
          "text": [
            "Input: tom was unharmed.\n",
            "Predicted translation: tom war im sterben .\n"
          ],
          "name": "stdout"
        }
      ]
    },
    {
      "cell_type": "code",
      "metadata": {
        "id": "QsAi9VsVbQ1g",
        "colab_type": "code",
        "outputId": "e365efb0-6dfa-4bae-e5de-430c890766e6",
        "colab": {
          "base_uri": "https://localhost:8080/",
          "height": 51
        }
      },
      "source": [
        "translate('how are you?')"
      ],
      "execution_count": 89,
      "outputs": [
        {
          "output_type": "stream",
          "text": [
            "Input: how are you?\n",
            "Predicted translation: wie geht es dir ?\n"
          ],
          "name": "stdout"
        }
      ]
    },
    {
      "cell_type": "code",
      "metadata": {
        "id": "7s3GCgBGeRsl",
        "colab_type": "code",
        "outputId": "bd76165e-b711-406c-a9c5-3a43d1ab332c",
        "colab": {
          "base_uri": "https://localhost:8080/",
          "height": 51
        }
      },
      "source": [
        "translate('she quit smoking.')"
      ],
      "execution_count": 90,
      "outputs": [
        {
          "output_type": "stream",
          "text": [
            "Input: she quit smoking.\n",
            "Predicted translation: sie hat mit dem rauchen aufgehoert .\n"
          ],
          "name": "stdout"
        }
      ]
    },
    {
      "cell_type": "code",
      "metadata": {
        "id": "fGtaatQgeXtC",
        "colab_type": "code",
        "outputId": "d6fb47d7-e2e8-4114-b1ac-8464208de82b",
        "colab": {
          "base_uri": "https://localhost:8080/",
          "height": 51
        }
      },
      "source": [
        "translate('the light is off.')"
      ],
      "execution_count": 91,
      "outputs": [
        {
          "output_type": "stream",
          "text": [
            "Input: the light is off.\n",
            "Predicted translation: das licht ist aus .\n"
          ],
          "name": "stdout"
        }
      ]
    },
    {
      "cell_type": "code",
      "metadata": {
        "id": "9S968HrbMkhU",
        "colab_type": "code",
        "colab": {}
      },
      "source": [
        "#move checkpoint folder to static location\n",
        "!mv /content/training_checkpoints '/content/gdrive/My Drive/Screencastify'"
      ],
      "execution_count": 0,
      "outputs": []
    },
    {
      "cell_type": "code",
      "metadata": {
        "id": "1akHQ0Dnuc9b",
        "colab_type": "code",
        "colab": {}
      },
      "source": [
        ""
      ],
      "execution_count": 0,
      "outputs": []
    }
  ]
}